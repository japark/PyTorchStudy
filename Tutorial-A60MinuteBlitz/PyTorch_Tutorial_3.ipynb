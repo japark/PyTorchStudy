{
 "cells": [
  {
   "cell_type": "markdown",
   "metadata": {},
   "source": [
    "# PyTorch_Tutorial_3 : NEURAL NETWORKS"
   ]
  },
  {
   "cell_type": "markdown",
   "metadata": {},
   "source": [
    "### 이 노트는 아래의 웹사이트의 코드를 따라가며 해설하였다."
   ]
  },
  {
   "cell_type": "markdown",
   "metadata": {},
   "source": [
    "https://pytorch.org/tutorials/beginner/blitz/neural_networks_tutorial.html#sphx-glr-beginner-blitz-neural-networks-tutorial-py"
   ]
  },
  {
   "cell_type": "markdown",
   "metadata": {},
   "source": [
    "## Neural Network with PyTorch"
   ]
  },
  {
   "cell_type": "markdown",
   "metadata": {},
   "source": [
    "- Neural networks는 torch.nn 패키지를 이용해 만들 수 있다.\n",
    "- nn 패키지는 autograd 패키지의 기능을 이용해 모델을 정의하고 미분한다.\n",
    "- nn.Module클래스에서 layers를 정의하고 모델의 결과값을 반환하는 forward 메소드를 제공한다."
   ]
  },
  {
   "cell_type": "markdown",
   "metadata": {},
   "source": [
    "#### NOTE ) Neural Network의 학습순서는 위 사이트에 다음과 같이 언급되어 있으니 참고할 것! "
   ]
  },
  {
   "cell_type": "markdown",
   "metadata": {},
   "source": [
    "- Define the neural network that has some learnable parameters (or weights)\n",
    "- Iterate over a dataset of inputs\n",
    "- Process input through the network\n",
    "- Compute the loss (how far is the output from being correct)\n",
    "- Propagate gradients back into the network’s parameters\n",
    "- Update the weights of the network, typically using a simple update rule: weight = weight - learning_rate * gradient"
   ]
  },
  {
   "cell_type": "code",
   "execution_count": 1,
   "metadata": {},
   "outputs": [],
   "source": [
    "from pprint import pprint\n",
    "import torch\n",
    "import torch.nn as nn\n",
    "import torch.nn.functional as F"
   ]
  },
  {
   "cell_type": "markdown",
   "metadata": {},
   "source": [
    "### 1. Defining Model"
   ]
  },
  {
   "cell_type": "markdown",
   "metadata": {},
   "source": [
    "#### NOTE ) 아래 모델의 시각화는 위 사이트를 참조할 것! "
   ]
  },
  {
   "cell_type": "code",
   "execution_count": 2,
   "metadata": {},
   "outputs": [
    {
     "name": "stdout",
     "output_type": "stream",
     "text": [
      "Net(\n",
      "  (conv1): Conv2d(1, 6, kernel_size=(3, 3), stride=(1, 1))\n",
      "  (conv2): Conv2d(6, 16, kernel_size=(3, 3), stride=(1, 1))\n",
      "  (fc1): Linear(in_features=576, out_features=120, bias=True)\n",
      "  (fc2): Linear(in_features=120, out_features=84, bias=True)\n",
      "  (fc3): Linear(in_features=84, out_features=10, bias=True)\n",
      ")\n"
     ]
    }
   ],
   "source": [
    "# 모델 정의 시, Module클래스를 상속할 것!\n",
    "# Expected input size of this net (LeNet) is 32x32\n",
    "class Net(nn.Module):\n",
    "\n",
    "    def __init__(self):\n",
    "        super(Net, self).__init__()\n",
    "        # 1 input image channel, 6 output channels, 3x3 square convolution\n",
    "        # kernel\n",
    "        self.conv1 = nn.Conv2d(1, 6, 3)\n",
    "        self.conv2 = nn.Conv2d(6, 16, 3)\n",
    "        # an affine operation: y = Wx + b (linear op.인 Wx에 상수를 더해서 Wx+b를 계산하는 것을 affine op.라 한다.)\n",
    "        self.fc1 = nn.Linear(16 * 6 * 6, 120)  # 6*6 from image dimension\n",
    "        self.fc2 = nn.Linear(120, 84)\n",
    "        self.fc3 = nn.Linear(84, 10)\n",
    "\n",
    "    # 이부분은 항상 사용자가 정의해야한다.\n",
    "    def forward(self, x):\n",
    "        # Max pooling over a (2, 2) window\n",
    "        x = F.max_pool2d(F.relu(self.conv1(x)), (2, 2))\n",
    "        # If the size is a square you can only specify a single number.\n",
    "        # 즉, (2,2) 대신에 2라고만 써도 된다.\n",
    "        x = F.max_pool2d(F.relu(self.conv2(x)), 2)\n",
    "        x = x.view(-1, self.num_flat_features(x))\n",
    "        x = F.relu(self.fc1(x))\n",
    "        x = F.relu(self.fc2(x))\n",
    "        x = self.fc3(x)\n",
    "        return x\n",
    "\n",
    "    # 한번 학습할때마다 x에는 minibatch size만큼의 데이터가 들어있다.\n",
    "    # 따라서 tensor size에서 첫번째 요소(minibatch size)를 제외하고,\n",
    "    # \"하나의 데이터\"에 들어있는 전체 요소의 갯수를 구하는 것이다.\n",
    "    # torch.nn only supports mini-batches.\n",
    "    # The entire torch.nn package only supports inputs that are a mini-batch of samples,\n",
    "    # and not a single sample.\n",
    "    # That's why nn.Conv2d will take in a 4D Tensor of nSamples x nChannels x Height x Width\n",
    "    # If you have a single sample, just use input.unsqueeze(0) to add a fake batch dimension.\n",
    "    def num_flat_features(self, x):\n",
    "        size = x.size()[1:]  # all dimensions except the batch dimension\n",
    "        num_features = 1\n",
    "        for s in size:\n",
    "            num_features *= s\n",
    "        return num_features\n",
    "\n",
    "# 위에 정의한 모델의 인스턴스 생성\n",
    "net = Net()\n",
    "print(net)"
   ]
  },
  {
   "cell_type": "code",
   "execution_count": 3,
   "metadata": {},
   "outputs": [
    {
     "name": "stdout",
     "output_type": "stream",
     "text": [
      "10\n",
      "torch.Size([6, 1, 3, 3])\n",
      "torch.Size([6])\n"
     ]
    }
   ],
   "source": [
    "params = list(net.parameters())\n",
    "print(len(params))\n",
    "print(params[0].size())  # conv1's .weight\n",
    "print(params[1].size())  # conv1's .bias"
   ]
  },
  {
   "cell_type": "code",
   "execution_count": 4,
   "metadata": {},
   "outputs": [
    {
     "name": "stdout",
     "output_type": "stream",
     "text": [
      "tensor([[ 0.0436,  0.2149, -0.0191, -0.0741,  0.0753, -0.0155,  0.0328, -0.1276,\n",
      "          0.1156, -0.0460]], grad_fn=<AddmmBackward>)\n"
     ]
    }
   ],
   "source": [
    "# Let's try a random 32x32 input\n",
    "my_input = torch.randn(1, 1, 32, 32)\n",
    "out = net(my_input)    # forward 메소드가 작동해서 input에 대한 현재모델의 예측값을 반환한다.\n",
    "print(out)"
   ]
  },
  {
   "cell_type": "code",
   "execution_count": 5,
   "metadata": {},
   "outputs": [],
   "source": [
    "# Zero the gradient buffers of all parameters and backprops with random gradients:\n",
    "net.zero_grad()\n",
    "out.backward(torch.randn(1, 10))    # out이 스칼라가 아니므로, 이와 같은 사이즈의 임의의 텐서를 argument에 대입!"
   ]
  },
  {
   "cell_type": "markdown",
   "metadata": {},
   "source": [
    "### 2. Loss Function"
   ]
  },
  {
   "cell_type": "code",
   "execution_count": 6,
   "metadata": {},
   "outputs": [
    {
     "name": "stdout",
     "output_type": "stream",
     "text": [
      "tensor(1.4170, grad_fn=<MseLossBackward>)\n"
     ]
    }
   ],
   "source": [
    "output = net(my_input)\n",
    "target = torch.randn(10)     # a dummy target, for example\n",
    "target = target.view(1, -1)  # make it the same shape as output\n",
    "criterion = nn.MSELoss()\n",
    "\n",
    "loss = criterion(output, target)\n",
    "print(loss)"
   ]
  },
  {
   "cell_type": "code",
   "execution_count": 7,
   "metadata": {},
   "outputs": [
    {
     "name": "stdout",
     "output_type": "stream",
     "text": [
      "<MseLossBackward object at 0x000001EC1846E308>\n",
      "\n",
      "((<AddmmBackward object at 0x000001EC1846E208>, 0),)\n",
      "\n",
      "((<AccumulateGrad object at 0x000001EC1846E208>, 0),\n",
      " (<ReluBackward0 object at 0x000001EC1846E308>, 0),\n",
      " (<TBackward object at 0x000001EC1846EDC8>, 0))\n",
      "\n",
      "()\n",
      "((<AddmmBackward object at 0x000001EC1846E3C8>, 0),)\n",
      "((<AccumulateGrad object at 0x000001EC1846E208>, 0),)\n"
     ]
    }
   ],
   "source": [
    "# next_functions 은 연산을 거슬러 올라간다.\n",
    "print(loss.grad_fn)  # MSELoss\n",
    "print('')\n",
    "print(loss.grad_fn.next_functions)  # Linear\n",
    "print('')\n",
    "pprint(loss.grad_fn.next_functions[0][0].next_functions)  # Relu\n",
    "print('')\n",
    "print(loss.grad_fn.next_functions[0][0].next_functions[0][0].next_functions)\n",
    "print(loss.grad_fn.next_functions[0][0].next_functions[1][0].next_functions)\n",
    "print(loss.grad_fn.next_functions[0][0].next_functions[2][0].next_functions)"
   ]
  },
  {
   "cell_type": "markdown",
   "metadata": {},
   "source": [
    "- The neural network package contains various modules and loss functions that form the building blocks of deep neural networks.\n",
    "- A full list with documentation is here: https://pytorch.org/docs/stable/nn.html."
   ]
  },
  {
   "cell_type": "markdown",
   "metadata": {},
   "source": [
    "### 3. Backprop"
   ]
  },
  {
   "cell_type": "code",
   "execution_count": 8,
   "metadata": {},
   "outputs": [
    {
     "name": "stdout",
     "output_type": "stream",
     "text": [
      "conv1.bias.grad before backward\n",
      "tensor([0., 0., 0., 0., 0., 0.])\n",
      "conv1.bias.grad after backward\n",
      "tensor([-0.0153,  0.0124, -0.0236, -0.0029, -0.0088,  0.0003])\n"
     ]
    }
   ],
   "source": [
    "# Let's have a look at conv1’s bias gradients before and after the backward.\n",
    "\n",
    "# zeroes the gradient buffers of all parameters,\n",
    "# else gradients will be accumulated to existing gradients.\n",
    "net.zero_grad()\n",
    "\n",
    "print('conv1.bias.grad before backward')\n",
    "print(net.conv1.bias.grad)\n",
    "\n",
    "loss.backward()\n",
    "\n",
    "print('conv1.bias.grad after backward')\n",
    "print(net.conv1.bias.grad)"
   ]
  },
  {
   "cell_type": "markdown",
   "metadata": {},
   "source": [
    "### 4. Update the weights"
   ]
  },
  {
   "cell_type": "markdown",
   "metadata": {},
   "source": [
    "- The simplest update rule used in practice is the Stochastic Gradient Descent (SGD): weight = weight - learning_rate * gradient\n",
    "- SGD, Nesterov-SGD, Adam, RMSProp 등 다양한 update 방법들을 간편하게 사용하기 위해 PyTorch에서는 torch.optim 패키지를 제공한다."
   ]
  },
  {
   "cell_type": "code",
   "execution_count": 9,
   "metadata": {},
   "outputs": [
    {
     "name": "stdout",
     "output_type": "stream",
     "text": [
      "Parameter containing:\n",
      "tensor([ 0.2367,  0.0320, -0.0896, -0.2898,  0.2047,  0.0322],\n",
      "       requires_grad=True)\n"
     ]
    }
   ],
   "source": [
    "# Bias of conv1 before updates\n",
    "print(list(net.parameters())[1])"
   ]
  },
  {
   "cell_type": "code",
   "execution_count": 10,
   "metadata": {},
   "outputs": [],
   "source": [
    "learning_rate = 0.1\n",
    "for f in net.parameters():\n",
    "    f.data.sub_(f.grad.data * learning_rate)"
   ]
  },
  {
   "cell_type": "code",
   "execution_count": 11,
   "metadata": {},
   "outputs": [
    {
     "name": "stdout",
     "output_type": "stream",
     "text": [
      "Parameter containing:\n",
      "tensor([ 0.2383,  0.0308, -0.0872, -0.2895,  0.2056,  0.0322],\n",
      "       requires_grad=True)\n"
     ]
    }
   ],
   "source": [
    "# Bias of conv1 after updates\n",
    "print(list(net.parameters())[1])"
   ]
  },
  {
   "cell_type": "code",
   "execution_count": 12,
   "metadata": {},
   "outputs": [],
   "source": [
    "# Update process above can be implemented in short length by torch.optim package\n",
    "import torch.optim as optim\n",
    "\n",
    "# create your optimizer\n",
    "optimizer = optim.SGD(net.parameters(), lr=0.01)\n",
    "\n",
    "# in your training loop:\n",
    "optimizer.zero_grad()   # zeros the gradient buffers (instead of net.zero_grad())\n",
    "output = net(my_input)\n",
    "loss = criterion(output, target)\n",
    "loss.backward()\n",
    "optimizer.step()    # Does the update"
   ]
  }
 ],
 "metadata": {
  "kernelspec": {
   "display_name": "Python 3",
   "language": "python",
   "name": "python3"
  },
  "language_info": {
   "codemirror_mode": {
    "name": "ipython",
    "version": 3
   },
   "file_extension": ".py",
   "mimetype": "text/x-python",
   "name": "python",
   "nbconvert_exporter": "python",
   "pygments_lexer": "ipython3",
   "version": "3.7.8"
  }
 },
 "nbformat": 4,
 "nbformat_minor": 2
}
