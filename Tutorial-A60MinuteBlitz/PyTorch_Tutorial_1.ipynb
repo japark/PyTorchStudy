{
 "cells": [
  {
   "cell_type": "markdown",
   "metadata": {},
   "source": [
    "# PyTorch_Tutorial_1 : What is PyTorch?"
   ]
  },
  {
   "cell_type": "markdown",
   "metadata": {},
   "source": [
    "### 이 노트는 아래의 웹사이트의 코드를 따라가며 해설하였다."
   ]
  },
  {
   "cell_type": "markdown",
   "metadata": {},
   "source": [
    "https://pytorch.org/tutorials/beginner/blitz/tensor_tutorial.html#sphx-glr-beginner-blitz-tensor-tutorial-py"
   ]
  },
  {
   "cell_type": "code",
   "execution_count": 1,
   "metadata": {},
   "outputs": [],
   "source": [
    "import torch"
   ]
  },
  {
   "cell_type": "code",
   "execution_count": 2,
   "metadata": {},
   "outputs": [
    {
     "name": "stdout",
     "output_type": "stream",
     "text": [
      "tensor([[-3.9191e-17,  7.7212e-43, -3.9191e-17],\n",
      "        [ 7.7212e-43, -3.9189e-17,  7.7212e-43],\n",
      "        [-3.9189e-17,  7.7212e-43, -3.9193e-17],\n",
      "        [ 7.7212e-43, -3.9193e-17,  7.7212e-43],\n",
      "        [-3.9209e-17,  7.7212e-43, -3.9209e-17]])\n"
     ]
    }
   ],
   "source": [
    "# Uninitialized matrix\n",
    "x = torch.empty(5, 3)\n",
    "print(x)"
   ]
  },
  {
   "cell_type": "code",
   "execution_count": 3,
   "metadata": {},
   "outputs": [
    {
     "name": "stdout",
     "output_type": "stream",
     "text": [
      "tensor([[0.8271, 0.2165, 0.1064],\n",
      "        [0.5031, 0.7067, 0.0906],\n",
      "        [0.1734, 0.4993, 0.2109],\n",
      "        [0.7419, 0.3670, 0.4605],\n",
      "        [0.6500, 0.1201, 0.0914]])\n"
     ]
    }
   ],
   "source": [
    "# Initialized matrix\n",
    "# 0~1사이의 실수값을 무작위로 반환한다.\n",
    "x = torch.rand(5, 3)\n",
    "print(x)"
   ]
  },
  {
   "cell_type": "code",
   "execution_count": 4,
   "metadata": {},
   "outputs": [
    {
     "name": "stdout",
     "output_type": "stream",
     "text": [
      "tensor([[0, 0, 0],\n",
      "        [0, 0, 0],\n",
      "        [0, 0, 0],\n",
      "        [0, 0, 0],\n",
      "        [0, 0, 0]])\n",
      "tensor([[1., 1.],\n",
      "        [1., 1.],\n",
      "        [1., 1.],\n",
      "        [1., 1.],\n",
      "        [1., 1.]], dtype=torch.float64)\n"
     ]
    }
   ],
   "source": [
    "# All-zero matrix with data type \"long\"\n",
    "x = torch.zeros(5, 3, dtype=torch.long)\n",
    "print(x)\n",
    "\n",
    "# All-one matrix with data type \"double\"\n",
    "y = torch.ones(5, 2, dtype=torch.double)\n",
    "print(y)"
   ]
  },
  {
   "cell_type": "code",
   "execution_count": 5,
   "metadata": {},
   "outputs": [
    {
     "name": "stdout",
     "output_type": "stream",
     "text": [
      "tensor([5.5000, 3.0000])\n"
     ]
    }
   ],
   "source": [
    "# Matrix creation from data\n",
    "x = torch.tensor([5.5, 3])\n",
    "print(x)"
   ]
  },
  {
   "cell_type": "code",
   "execution_count": 6,
   "metadata": {},
   "outputs": [
    {
     "name": "stdout",
     "output_type": "stream",
     "text": [
      "tensor([[1., 1., 1.],\n",
      "        [1., 1., 1.],\n",
      "        [1., 1., 1.],\n",
      "        [1., 1., 1.],\n",
      "        [1., 1., 1.]], dtype=torch.float64)\n",
      "tensor([[ 0.3523,  0.6065, -0.6724],\n",
      "        [ 0.5848,  1.1447, -1.6026],\n",
      "        [-0.5036,  0.7032,  0.5911],\n",
      "        [ 0.3851, -0.3658, -0.3254],\n",
      "        [-0.2845, -0.3634,  0.5753]])\n"
     ]
    }
   ],
   "source": [
    "# Create a tensor based on an existing tensor.\n",
    "x = x.new_ones(5, 3, dtype=torch.double)      # new_* methods take in sizes\n",
    "print(x)\n",
    "\n",
    "# randn은 표준정규분포에서 무작위로 수를 추출한다.\n",
    "x = torch.randn_like(x, dtype=torch.float)    # override dtype! (double -> float)\n",
    "print(x)                                      # result has the same size as x: (5,3)"
   ]
  },
  {
   "cell_type": "code",
   "execution_count": 7,
   "metadata": {},
   "outputs": [
    {
     "name": "stdout",
     "output_type": "stream",
     "text": [
      "torch.Size([5, 3])\n"
     ]
    }
   ],
   "source": [
    "print(x.size())    # torch.Size is Python tuple,so it supports all tuple operations."
   ]
  },
  {
   "cell_type": "code",
   "execution_count": 8,
   "metadata": {},
   "outputs": [
    {
     "name": "stdout",
     "output_type": "stream",
     "text": [
      "tensor([[ 0.6375,  1.0453, -0.3404],\n",
      "        [ 0.8753,  1.7695, -1.5949],\n",
      "        [-0.1620,  0.7734,  1.2491],\n",
      "        [ 0.7328, -0.0484,  0.2907],\n",
      "        [-0.2493,  0.2015,  0.5869]])\n"
     ]
    }
   ],
   "source": [
    "# Addition op. 1\n",
    "y = torch.rand(5, 3)\n",
    "print(x + y)"
   ]
  },
  {
   "cell_type": "code",
   "execution_count": 9,
   "metadata": {},
   "outputs": [
    {
     "name": "stdout",
     "output_type": "stream",
     "text": [
      "tensor([[ 0.6375,  1.0453, -0.3404],\n",
      "        [ 0.8753,  1.7695, -1.5949],\n",
      "        [-0.1620,  0.7734,  1.2491],\n",
      "        [ 0.7328, -0.0484,  0.2907],\n",
      "        [-0.2493,  0.2015,  0.5869]])\n"
     ]
    }
   ],
   "source": [
    "# Addition op. 2\n",
    "print(torch.add(x, y))"
   ]
  },
  {
   "cell_type": "code",
   "execution_count": 10,
   "metadata": {},
   "outputs": [
    {
     "name": "stdout",
     "output_type": "stream",
     "text": [
      "tensor([[ 0.6375,  1.0453, -0.3404],\n",
      "        [ 0.8753,  1.7695, -1.5949],\n",
      "        [-0.1620,  0.7734,  1.2491],\n",
      "        [ 0.7328, -0.0484,  0.2907],\n",
      "        [-0.2493,  0.2015,  0.5869]])\n"
     ]
    }
   ],
   "source": [
    "# Addition op. 3\n",
    "result = torch.empty(5, 3)\n",
    "torch.add(x, y, out=result)    # Insert added value into \"result\"\n",
    "print(result)"
   ]
  },
  {
   "cell_type": "code",
   "execution_count": 11,
   "metadata": {},
   "outputs": [
    {
     "name": "stdout",
     "output_type": "stream",
     "text": [
      "tensor([[ 0.6375,  1.0453, -0.3404],\n",
      "        [ 0.8753,  1.7695, -1.5949],\n",
      "        [-0.1620,  0.7734,  1.2491],\n",
      "        [ 0.7328, -0.0484,  0.2907],\n",
      "        [-0.2493,  0.2015,  0.5869]])\n"
     ]
    }
   ],
   "source": [
    "# Any operation that mutates a tensor in-place is post-fixed with an _.\n",
    "# For example: x.copy_(y), x.t_() will change x.\n",
    "y.add_(x)   # y+=x in python standard grammar\n",
    "print(y)"
   ]
  },
  {
   "cell_type": "code",
   "execution_count": 12,
   "metadata": {},
   "outputs": [
    {
     "name": "stdout",
     "output_type": "stream",
     "text": [
      "tensor([ 0.6065,  1.1447,  0.7032, -0.3658, -0.3634])\n"
     ]
    }
   ],
   "source": [
    "print(x[:, 1])    # All numbers in 2nd column"
   ]
  },
  {
   "cell_type": "code",
   "execution_count": 13,
   "metadata": {},
   "outputs": [
    {
     "name": "stdout",
     "output_type": "stream",
     "text": [
      "torch.Size([4, 4]) tensor([[-0.1735, -0.1173,  0.3574, -0.1636],\n",
      "        [-0.9378, -0.1166,  0.0676,  0.0577],\n",
      "        [-0.1245,  0.7449, -1.0488, -0.2512],\n",
      "        [ 0.7183,  0.1406,  0.2596, -1.8287]])\n",
      "torch.Size([16]) tensor([-0.1735, -0.1173,  0.3574, -0.1636, -0.9378, -0.1166,  0.0676,  0.0577,\n",
      "        -0.1245,  0.7449, -1.0488, -0.2512,  0.7183,  0.1406,  0.2596, -1.8287])\n",
      "torch.Size([2, 8]) tensor([[-0.1735, -0.1173,  0.3574, -0.1636, -0.9378, -0.1166,  0.0676,  0.0577],\n",
      "        [-0.1245,  0.7449, -1.0488, -0.2512,  0.7183,  0.1406,  0.2596, -1.8287]])\n"
     ]
    }
   ],
   "source": [
    "# Modify the \"shape\" of tensors.\n",
    "x = torch.randn(4, 4)\n",
    "y = x.view(16)\n",
    "z = x.view(-1, 8)    # the size -1 is inferred from other dimensions. (Here 2 is reasonable answer.)\n",
    "print(x.size(), x)\n",
    "print(y.size(), y)\n",
    "print(z.size(), z)"
   ]
  },
  {
   "cell_type": "code",
   "execution_count": 14,
   "metadata": {},
   "outputs": [
    {
     "name": "stdout",
     "output_type": "stream",
     "text": [
      "tensor([1.1965])\n",
      "1.1965175867080688\n"
     ]
    }
   ],
   "source": [
    "# From torch tensor to python number\n",
    "x = torch.randn(1)\n",
    "print(x)\n",
    "print(x.item())"
   ]
  },
  {
   "cell_type": "code",
   "execution_count": 15,
   "metadata": {},
   "outputs": [
    {
     "name": "stdout",
     "output_type": "stream",
     "text": [
      "tensor([1., 1., 1., 1., 1.])\n",
      "[1. 1. 1. 1. 1.]\n"
     ]
    }
   ],
   "source": [
    "# Numpy bridge\n",
    "a = torch.ones(5)\n",
    "print(a)\n",
    "\n",
    "b = a.numpy()    # From torch tensor to numpy array\n",
    "print(b)"
   ]
  },
  {
   "cell_type": "code",
   "execution_count": 16,
   "metadata": {},
   "outputs": [
    {
     "name": "stdout",
     "output_type": "stream",
     "text": [
      "tensor([2., 2., 2., 2., 2.])\n",
      "[2. 2. 2. 2. 2.]\n"
     ]
    }
   ],
   "source": [
    "# Both share the memory location(if torch tensor is on CPU and not a CharTensor).\n",
    "# Changing one will change the other.\n",
    "a.add_(1)\n",
    "print(a)\n",
    "print(b)"
   ]
  },
  {
   "cell_type": "code",
   "execution_count": 17,
   "metadata": {},
   "outputs": [
    {
     "name": "stdout",
     "output_type": "stream",
     "text": [
      "[2. 2. 2. 2. 2.]\n",
      "tensor([2., 2., 2., 2., 2.], dtype=torch.float64)\n"
     ]
    }
   ],
   "source": [
    "# From numpy array to torch tensor\n",
    "import numpy as np\n",
    "\n",
    "a = np.ones(5)\n",
    "b = torch.from_numpy(a)\n",
    "np.add(a, 1, out=a)\n",
    "print(a)\n",
    "print(b)"
   ]
  },
  {
   "cell_type": "code",
   "execution_count": 18,
   "metadata": {},
   "outputs": [
    {
     "name": "stdout",
     "output_type": "stream",
     "text": [
      "tensor([2.1965], device='cuda:0')\n",
      "tensor([2.1965], dtype=torch.float64)\n",
      "True\n"
     ]
    }
   ],
   "source": [
    "# Let us run this cell only if CUDA is available\n",
    "# We will use \"torch.device\" objects to move tensors in and out of GPU\n",
    "if torch.cuda.is_available():\n",
    "    device = torch.device(\"cuda\")          # a CUDA device object\n",
    "    y = torch.ones_like(x, device=device)  # directly create a tensor on GPU\n",
    "    x = x.to(device)                       # or just use strings \"\".to(\"cuda\")\"\"\n",
    "    z = x + y\n",
    "    print(z)\n",
    "    print(z.to(\"cpu\", torch.double))       # ``.to`` can also change dtype together!\n",
    "print(torch.cuda.is_available())"
   ]
  }
 ],
 "metadata": {
  "kernelspec": {
   "display_name": "Python 3",
   "language": "python",
   "name": "python3"
  },
  "language_info": {
   "codemirror_mode": {
    "name": "ipython",
    "version": 3
   },
   "file_extension": ".py",
   "mimetype": "text/x-python",
   "name": "python",
   "nbconvert_exporter": "python",
   "pygments_lexer": "ipython3",
   "version": "3.7.8"
  }
 },
 "nbformat": 4,
 "nbformat_minor": 2
}
